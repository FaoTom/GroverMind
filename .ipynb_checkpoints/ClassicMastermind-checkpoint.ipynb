{
 "cells": [
  {
   "cell_type": "code",
   "execution_count": 25,
   "metadata": {},
   "outputs": [
    {
     "data": {
      "text/plain": [
       "(2, 1)"
      ]
     },
     "execution_count": 25,
     "metadata": {},
     "output_type": "execute_result"
    }
   ],
   "source": [
    "import numpy as np\n",
    "\n",
    "nPoints = 5\n",
    "nColours = 4\n",
    "\n",
    "\n",
    "def generateCombinations(nPoints, nColours):\n",
    "    nCombinations = nColours**nPoints\n",
    "    totalCombinations = [(i,j,k,l,m) for i in range(4) for j in range(4) for k in range(4) for l in range(4) for m in range(4)]\n",
    "    return np.array(totalCombinations)\n",
    "\n",
    "\n",
    "def checkSequence(playerSequence,masterSequence):\n",
    "        nBlack = sum([1 for p, m in zip(playerSequence, masterSequence) if p==m])\n",
    "        nWhite = sum([1 for p, m in zip(playerSequence, masterSequence) if (p in masterSequence and p!=m)])\n",
    "        return nBlack, nWhite\n",
    "                \n",
    "guess = [1,2,3,4,5]\n",
    "master = [1,2,1,3,1]\n",
    "\n",
    "checkSequence(guess, master)"
   ]
  },
  {
   "cell_type": "code",
   "execution_count": null,
   "metadata": {},
   "outputs": [],
   "source": [
    "def find_correct(actual, guess):\n",
    "    '''Finds the sum of all correct matches.'''\n",
    "    return sum([1 for (a, b) in zip(actual, guess) if a == b])\n",
    "\n",
    "\n",
    "def remove_correct(actual, guess):\n",
    "    '''Removes all correct matches from two \"rows\"'''\n",
    "    actual2 = [a for (a, b) in zip(actual, guess) if a != b]\n",
    "    guess2 = [b for (a, b) in zip(actual, guess) if a != b]\n",
    "    return actual2, guess2\n",
    "\n",
    "\n",
    "def find_close(actual, guess):\n",
    "    '''Finds the sum of all close matches.'''\n",
    "    actual, guess = remove_correct(actual, guess)\n",
    "\n",
    "    close = 0\n",
    "    for possible in guess:\n",
    "        if possible in actual:\n",
    "            del actual[actual.index(possible)]\n",
    "            close += 1\n",
    "    return close\n",
    "\n",
    "\n",
    "def get_feedback(actual, guess):\n",
    "    '''Compares two \"rows\" to each other and returns feedback.'''\n",
    "    return Feedback(find_correct(actual, guess), find_close(actual, guess))\n"
   ]
  }
 ],
 "metadata": {
  "kernelspec": {
   "display_name": "Python 3",
   "language": "python",
   "name": "python3"
  },
  "language_info": {
   "codemirror_mode": {
    "name": "ipython",
    "version": 3
   },
   "file_extension": ".py",
   "mimetype": "text/x-python",
   "name": "python",
   "nbconvert_exporter": "python",
   "pygments_lexer": "ipython3",
   "version": "3.8.5"
  }
 },
 "nbformat": 4,
 "nbformat_minor": 4
}
