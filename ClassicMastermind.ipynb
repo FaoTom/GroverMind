{
 "cells": [
  {
   "cell_type": "code",
   "execution_count": 37,
   "metadata": {},
   "outputs": [
    {
     "name": "stdout",
     "output_type": "stream",
     "text": [
      "[[0 0 0 0 0]\n",
      " [0 0 0 0 1]\n",
      " [0 0 0 0 2]\n",
      " ...\n",
      " [3 3 3 3 1]\n",
      " [3 3 3 3 2]\n",
      " [3 3 3 3 3]]\n"
     ]
    },
    {
     "data": {
      "text/plain": [
       "(3, 0)"
      ]
     },
     "execution_count": 37,
     "metadata": {},
     "output_type": "execute_result"
    }
   ],
   "source": [
    "import numpy as np\n",
    "\n",
    "nPoints = 5\n",
    "nColours = 4\n",
    "\n",
    "\n",
    "def generateCombinations(nPoints, nColours):\n",
    "    nCombinations = nColours**nPoints\n",
    "    totalCombinations = [(i,j,k,l,m) for i in range(4) for j in range(4) for k in range(4) for l in range(4) for m in range(4)]\n",
    "    return np.array(totalCombinations)\n",
    "\n",
    "\n",
    "def checkSequence(playerSequence,masterSequence):\n",
    "    nBlack = sum([1 for p, m in zip(playerSequence, masterSequence) if p==m])\n",
    "    nWhite = sum([1 for p, m in zip(playerSequence, masterSequence) if (p in masterSequence and p!=m)])\n",
    "    return nBlack, nWhite\n",
    "                \n",
    "guess = [1,2,3,4,5]\n",
    "master = [1,2,1,4,1]\n",
    "\n",
    "print(generateCombinations(nPoints, nColours))\n",
    "checkSequence(guess, master)"
   ]
  },
  {
   "cell_type": "code",
   "execution_count": null,
   "metadata": {},
   "outputs": [],
   "source": [
    "def find_correct(actual, guess):\n",
    "    '''Finds the sum of all correct matches.'''\n",
    "    return sum([1 for (a, b) in zip(actual, guess) if a == b])\n",
    "\n",
    "\n",
    "def remove_correct(actual, guess):\n",
    "    '''Removes all correct matches from two \"rows\"'''\n",
    "    actual2 = [a for (a, b) in zip(actual, guess) if a != b]\n",
    "    guess2 = [b for (a, b) in zip(actual, guess) if a != b]\n",
    "    return actual2, guess2\n",
    "\n",
    "\n",
    "def find_close(actual, guess):\n",
    "    '''Finds the sum of all close matches.'''\n",
    "    actual, guess = remove_correct(actual, guess)\n",
    "\n",
    "    close = 0\n",
    "    for possible in guess:\n",
    "        if possible in actual:\n",
    "            del actual[actual.index(possible)]\n",
    "            close += 1\n",
    "    return close\n",
    "\n",
    "\n",
    "def get_feedback(actual, guess):\n",
    "    '''Compares two \"rows\" to each other and returns feedback.'''\n",
    "    return Feedback(find_correct(actual, guess), find_close(actual, guess))\n"
   ]
  },
  {
   "cell_type": "code",
   "execution_count": 35,
   "metadata": {},
   "outputs": [
    {
     "name": "stdout",
     "output_type": "stream",
     "text": [
      "Number of numbers? 4\n",
      "Number of spaces?  4\n",
      "Try this: [0, 0, 1, 1]\n"
     ]
    },
    {
     "ename": "NameError",
     "evalue": "name 'raw_input' is not defined",
     "output_type": "error",
     "traceback": [
      "\u001b[0;31m---------------------------------------------------------------------------\u001b[0m",
      "\u001b[0;31mNameError\u001b[0m                                 Traceback (most recent call last)",
      "\u001b[0;32m<ipython-input-35-378d930cb6b1>\u001b[0m in \u001b[0;36m<module>\u001b[0;34m\u001b[0m\n\u001b[1;32m     94\u001b[0m     \u001b[0mprint\u001b[0m \u001b[0;34m(\u001b[0m\u001b[0;34m\"\\nYou win!\"\u001b[0m\u001b[0;34m)\u001b[0m\u001b[0;34m\u001b[0m\u001b[0;34m\u001b[0m\u001b[0m\n\u001b[1;32m     95\u001b[0m \u001b[0;34m\u001b[0m\u001b[0m\n\u001b[0;32m---> 96\u001b[0;31m \u001b[0mplay\u001b[0m\u001b[0;34m(\u001b[0m\u001b[0;34m)\u001b[0m\u001b[0;34m\u001b[0m\u001b[0;34m\u001b[0m\u001b[0m\n\u001b[0m\u001b[1;32m     97\u001b[0m \u001b[0;34m\u001b[0m\u001b[0m\n",
      "\u001b[0;32m<ipython-input-35-378d930cb6b1>\u001b[0m in \u001b[0;36mplay\u001b[0;34m()\u001b[0m\n\u001b[1;32m     82\u001b[0m     \u001b[0;32mwhile\u001b[0m \u001b[0;32mTrue\u001b[0m\u001b[0;34m:\u001b[0m\u001b[0;34m\u001b[0m\u001b[0;34m\u001b[0m\u001b[0m\n\u001b[1;32m     83\u001b[0m         \u001b[0mprint\u001b[0m\u001b[0;34m(\u001b[0m\u001b[0;34m\"Try this: {0}\"\u001b[0m\u001b[0;34m.\u001b[0m\u001b[0mformat\u001b[0m\u001b[0;34m(\u001b[0m\u001b[0mguess\u001b[0m\u001b[0;34m)\u001b[0m\u001b[0;34m)\u001b[0m\u001b[0;34m\u001b[0m\u001b[0;34m\u001b[0m\u001b[0m\n\u001b[0;32m---> 84\u001b[0;31m         \u001b[0mcorrect\u001b[0m \u001b[0;34m=\u001b[0m \u001b[0mint\u001b[0m\u001b[0;34m(\u001b[0m\u001b[0mraw_input\u001b[0m\u001b[0;34m(\u001b[0m\u001b[0;34m\"    # Red pegs?   \"\u001b[0m\u001b[0;34m)\u001b[0m\u001b[0;34m)\u001b[0m\u001b[0;34m\u001b[0m\u001b[0;34m\u001b[0m\u001b[0m\n\u001b[0m\u001b[1;32m     85\u001b[0m         \u001b[0mclose\u001b[0m \u001b[0;34m=\u001b[0m \u001b[0mint\u001b[0m\u001b[0;34m(\u001b[0m\u001b[0minput\u001b[0m\u001b[0;34m(\u001b[0m\u001b[0;34m\"    # White pegs? \"\u001b[0m\u001b[0;34m)\u001b[0m\u001b[0;34m)\u001b[0m\u001b[0;34m\u001b[0m\u001b[0;34m\u001b[0m\u001b[0m\n\u001b[1;32m     86\u001b[0m \u001b[0;34m\u001b[0m\u001b[0m\n",
      "\u001b[0;31mNameError\u001b[0m: name 'raw_input' is not defined"
     ]
    }
   ],
   "source": [
    "\n",
    "'''\n",
    "Mastermind solver\n",
    "Given feedback from a game of mastermind, makes guesses to try and\n",
    "determine the answer.\n",
    "'''\n",
    "\n",
    "import itertools\n",
    "import collections\n",
    "\n",
    "\n",
    "Feedback = collections.namedtuple('Feedback', ['correct', 'close'])\n",
    "\n",
    "\n",
    "def generate_initial_pool(choices, holes):\n",
    "    '''Generates the initial set of possible answers.'''\n",
    "    return list(itertools.product(*[range(choices) for _ in range(holes)]))\n",
    "\n",
    "\n",
    "def find_correct(actual, guess):\n",
    "    '''Finds the sum of all correct matches.'''\n",
    "    return sum([1 for (a, b) in zip(actual, guess) if a == b])\n",
    "\n",
    "\n",
    "def remove_correct(actual, guess):\n",
    "    '''Removes all correct matches from two \"rows\"'''\n",
    "    actual2 = [a for (a, b) in zip(actual, guess) if a != b]\n",
    "    guess2 = [b for (a, b) in zip(actual, guess) if a != b]\n",
    "    return actual2, guess2\n",
    "\n",
    "\n",
    "def find_close(actual, guess):\n",
    "    '''Finds the sum of all close matches.'''\n",
    "    actual, guess = remove_correct(actual, guess)\n",
    "\n",
    "    close = 0\n",
    "    for possible in guess:\n",
    "        if possible in actual:\n",
    "            del actual[actual.index(possible)]\n",
    "            close += 1\n",
    "    return close\n",
    "\n",
    "\n",
    "def get_feedback(actual, guess):\n",
    "    '''Compares two \"rows\" to each other and returns feedback.'''\n",
    "    return Feedback(find_correct(actual, guess), find_close(actual, guess))\n",
    "\n",
    "\n",
    "def is_match(guess, feedback, possible):\n",
    "    '''Returns true if hypothetical could be the answer given the feedback\n",
    "    and the guess'''\n",
    "    return feedback == get_feedback(possible, guess)\n",
    "\n",
    "\n",
    "def filter_pool(pool, guess, feedback):\n",
    "    '''Filters through the pool of possibilities and removes ones which\n",
    "    couldn't possibly be the answer.'''\n",
    "    for possible in pool:\n",
    "        if is_match(guess, feedback, possible) and (possible != guess):\n",
    "            yield possible\n",
    "\n",
    "\n",
    "def make_guess(pool, feedback):\n",
    "    '''Makes an educated guess between the pool of possibilities and\n",
    "    the user feedback.'''\n",
    "    min_length = float('infinity')\n",
    "    best_choice = None\n",
    "    for possible in pool:\n",
    "        length = len(list(filter_pool(pool, possible, feedback)))\n",
    "        if min_length > length:\n",
    "            min_length = length\n",
    "            best_choice = possible\n",
    "    return best_choice\n",
    "\n",
    "\n",
    "def play():\n",
    "    '''Plays a complete game of mastermind, and collects user input.'''\n",
    "    choices = int(input(\"Number of numbers? \"), 10)\n",
    "    holes = int(input(\"Number of spaces?  \"), 10)\n",
    "\n",
    "    pool = generate_initial_pool(choices, holes)\n",
    "    guess = [0 if (i < (holes / 2)) else 1 for i in range(holes)]\n",
    "    while True:\n",
    "        print(\"Try this: {0}\".format(guess))\n",
    "        correct = int(raw_input(\"    # Red pegs?   \"))\n",
    "        close = int(input(\"    # White pegs? \"))\n",
    "\n",
    "        feedback = Feedback(correct, close)\n",
    "        if feedback.correct == holes:\n",
    "            break\n",
    "        pool = list(filter_pool(pool, guess, feedback))\n",
    "        print (\"{0} possible choices left. Thinking...\\n\".format(len(pool)))\n",
    "\n",
    "        guess = make_guess(pool, feedback)\n",
    "    print (\"\\nYou win!\")\n",
    "\n",
    "play()\n",
    "\n"
   ]
  },
  {
   "cell_type": "code",
   "execution_count": null,
   "metadata": {},
   "outputs": [],
   "source": []
  }
 ],
 "metadata": {
  "kernelspec": {
   "display_name": "Python 3",
   "language": "python",
   "name": "python3"
  },
  "language_info": {
   "codemirror_mode": {
    "name": "ipython",
    "version": 3
   },
   "file_extension": ".py",
   "mimetype": "text/x-python",
   "name": "python",
   "nbconvert_exporter": "python",
   "pygments_lexer": "ipython3",
   "version": "3.8.5"
  }
 },
 "nbformat": 4,
 "nbformat_minor": 4
}
